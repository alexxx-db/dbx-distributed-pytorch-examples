{
 "cells": [
  {
   "cell_type": "code",
   "execution_count": 0,
   "metadata": {
    "application/vnd.databricks.v1+cell": {
     "cellMetadata": {
      "byteLimit": 2048000,
      "rowLimit": 10000
     },
     "inputWidgets": {},
     "nuid": "0b6f259a-991a-4403-9490-85cb2edaf748",
     "showTitle": false,
     "tableResultSettingsMap": {},
     "title": ""
    }
   },
   "outputs": [],
   "source": [
    " g%pip install -r ../requirements.txt\n",
    "%pip install mosaicml"
   ]
  },
  {
   "cell_type": "code",
   "execution_count": 0,
   "metadata": {
    "application/vnd.databricks.v1+cell": {
     "cellMetadata": {
      "byteLimit": 2048000,
      "rowLimit": 10000
     },
     "inputWidgets": {},
     "nuid": "74b9045e-ee9c-4e3a-aa4f-0b8bd6464ff5",
     "showTitle": false,
     "tableResultSettingsMap": {},
     "title": ""
    }
   },
   "outputs": [],
   "source": [
    "%restart_python"
   ]
  },
  {
   "cell_type": "code",
   "execution_count": 0,
   "metadata": {
    "application/vnd.databricks.v1+cell": {
     "cellMetadata": {
      "byteLimit": 2048000,
      "rowLimit": 10000
     },
     "inputWidgets": {},
     "nuid": "5a642fbd-4ffa-4d4f-999e-402d045026cd",
     "showTitle": false,
     "tableResultSettingsMap": {},
     "title": ""
    }
   },
   "outputs": [],
   "source": [
    "%run ../setup/00_setup"
   ]
  },
  {
   "cell_type": "code",
   "execution_count": 0,
   "metadata": {
    "application/vnd.databricks.v1+cell": {
     "cellMetadata": {
      "byteLimit": 2048000,
      "rowLimit": 10000
     },
     "inputWidgets": {},
     "nuid": "0087c21a-0aa5-4010-be11-62e769af1d64",
     "showTitle": false,
     "tableResultSettingsMap": {},
     "title": ""
    }
   },
   "outputs": [],
   "source": [
    "import mlflow\n",
    "import os\n",
    "\n",
    "HF_DATASETS_CACHE = \"/Volumes/will_smith/datasets/imagenet_tiny\"\n",
    "os.environ['HF_DATASETS_CACHE'] = HF_DATASETS_CACHE\n",
    "\n",
    "username = spark.sql(\"SELECT current_user()\").first()['current_user()']\n",
    "username\n",
    "\n",
    "experiment_path = f'/Users/{username}/composer-distributor'\n",
    "\n",
    "# Retrieve workspace URL and API token using dbutils notebook commands\n",
    "db_host = dbutils.notebook.entry_point.getDbutils().notebook().getContext().apiUrl().get()\n",
    "db_token = dbutils.notebook.entry_point.getDbutils().notebook().getContext().apiToken().get()\n",
    "\n",
    "# Manually create the experiment so that you know the ID and can send that to the worker nodes when you are ready to scale\n",
    "experiment = mlflow.set_experiment(experiment_path)"
   ]
  },
  {
   "cell_type": "markdown",
   "metadata": {
    "application/vnd.databricks.v1+cell": {
     "cellMetadata": {},
     "inputWidgets": {},
     "nuid": "5c7d4dfa-a41e-4a1c-82ce-a796825104fe",
     "showTitle": false,
     "tableResultSettingsMap": {},
     "title": ""
    }
   },
   "source": [
    "## Data Splits\n",
    "\n",
    "#### Total Rows: 110,000 (0.35 gb)\n",
    "\n",
    "\n",
    "| Split       | # of examples |\n",
    "|-------------|---------------|\n",
    "| Train       | 100,000  |\n",
    "| Validation  | 10,000  |"
   ]
  },
  {
   "cell_type": "code",
   "execution_count": 0,
   "metadata": {
    "application/vnd.databricks.v1+cell": {
     "cellMetadata": {
      "byteLimit": 2048000,
      "rowLimit": 10000
     },
     "inputWidgets": {},
     "nuid": "1238ba34-559d-47b6-91a7-d34d6616033e",
     "showTitle": false,
     "tableResultSettingsMap": {},
     "title": ""
    }
   },
   "outputs": [],
   "source": [
    "from datasets import load_dataset\n",
    "import datasets\n",
    "\n",
    "datasets.utils.logging.disable_progress_bar()\n",
    "loaded_dataset = load_dataset('zh-plus/tiny-imagenet', cache_dir=HF_DATASETS_CACHE, trust_remote_code=True)"
   ]
  },
  {
   "cell_type": "code",
   "execution_count": 0,
   "metadata": {
    "application/vnd.databricks.v1+cell": {
     "cellMetadata": {
      "byteLimit": 2048000,
      "rowLimit": 10000
     },
     "inputWidgets": {},
     "nuid": "aa935229-89a6-4e55-a8a3-2e8eb5d34d6d",
     "showTitle": false,
     "tableResultSettingsMap": {},
     "title": ""
    }
   },
   "outputs": [],
   "source": [
    "def transforms(examples):\n",
    "  examples[\"image\"] = [image.convert(\"RGB\").resize((64,64)) for image in examples[\"image\"]]\n",
    "  return examples\n",
    "\n",
    "loaded_dataset = loaded_dataset.map(transforms, batched=True)"
   ]
  },
  {
   "cell_type": "code",
   "execution_count": 0,
   "metadata": {
    "application/vnd.databricks.v1+cell": {
     "cellMetadata": {
      "byteLimit": 2048000,
      "rowLimit": 10000
     },
     "inputWidgets": {},
     "nuid": "aff06636-2b4a-4f35-ab0e-d8fba9e4c9aa",
     "showTitle": true,
     "tableResultSettingsMap": {},
     "title": "Hyperparameters"
    }
   },
   "outputs": [],
   "source": [
    "import logging\n",
    "import torchvision.models as models\n",
    "from composer.models import ComposerClassifier\n",
    "\n",
    "batch_size = 128\n",
    "num_epochs = \"2ep\"\n",
    "num_class =len(set(loaded_dataset[\"train\"][\"label\"]))\n",
    "\n",
    "logging.basicConfig(level=logging.INFO)\n",
    "resnet = models.resnet18(pretrained=False)\n",
    "resnet_composer = ComposerClassifier(resnet, num_classes=num_class)"
   ]
  },
  {
   "cell_type": "code",
   "execution_count": 0,
   "metadata": {
    "application/vnd.databricks.v1+cell": {
     "cellMetadata": {
      "byteLimit": 2048000,
      "rowLimit": 10000
     },
     "inputWidgets": {},
     "nuid": "43cd550d-6e37-403f-8d41-ee482c7c272b",
     "showTitle": false,
     "tableResultSettingsMap": {},
     "title": ""
    }
   },
   "outputs": [],
   "source": [
    "import torch \n",
    "from torchvision import datasets, transforms\n",
    "from torch.utils.data import DataLoader\n",
    "from datasets import Dataset\n",
    "\n",
    "train_dataset = loaded_dataset.get('train', None)\n",
    "test_dataset = loaded_dataset.get('valid', None)\n",
    "\n",
    "# Apply transformations directly to the dataset\n",
    "train_dataset =  Dataset.from_dict({\"image\": train_dataset['image'], \"label\": train_dataset[\"label\"]}).with_format(\"torch\", device=\"cuda\")\n",
    "test_dataset =  Dataset.from_dict({\"image\": test_dataset['image'], \"label\": test_dataset[\"label\"]}).with_format(\"torch\", device=\"cuda\")\n",
    "\n",
    "train_dataloader = torch.utils.data.DataLoader(train_dataset, batch_size=batch_size, shuffle=True)\n",
    "test_dataloader = torch.utils.data.DataLoader(test_dataset, batch_size=batch_size)"
   ]
  },
  {
   "cell_type": "code",
   "execution_count": 0,
   "metadata": {
    "application/vnd.databricks.v1+cell": {
     "cellMetadata": {
      "byteLimit": 2048000,
      "rowLimit": 10000
     },
     "inputWidgets": {},
     "nuid": "f17c0f9d-6512-4105-a213-8ce08e23b1ce",
     "showTitle": false,
     "tableResultSettingsMap": {},
     "title": ""
    }
   },
   "outputs": [],
   "source": [
    "import torchvision\n",
    "import torch.nn.functional as F\n",
    "from composer.models import ComposerModel\n",
    "\n",
    "class ResNet50(ComposerModel):\n",
    "\n",
    "    def __init__(self):\n",
    "        super().__init__()\n",
    "        self.model = torchvision.models.resnet50()\n",
    "\n",
    "    def forward(self, batch): # batch is the output of the dataloader\n",
    "        # specify how batches are passed through the model\n",
    "        inputs, _ = batch\n",
    "        return self.model(inputs)\n",
    "\n",
    "    def loss(self, outputs, batch):\n",
    "        # pass batches and `forward` outputs to the loss\n",
    "        _, targets = batch\n",
    "        return F.cross_entropy(outputs, targets)"
   ]
  },
  {
   "cell_type": "code",
   "execution_count": 0,
   "metadata": {
    "application/vnd.databricks.v1+cell": {
     "cellMetadata": {
      "byteLimit": 2048000,
      "rowLimit": 10000
     },
     "inputWidgets": {},
     "nuid": "e1e91e89-ebaa-4755-9970-fcbfd83df579",
     "showTitle": false,
     "tableResultSettingsMap": {},
     "title": ""
    }
   },
   "outputs": [],
   "source": [
    "from torchvision import datasets, transforms\n",
    "from torch.utils.data import DataLoader\n",
    "\n",
    "transform = transforms.Compose([\n",
    "    transforms.ToTensor()\n",
    "])\n",
    "dataset = datasets.ImageNet(\"data\", train=True, download=True, transform=transform)\n",
    "mnist_dataloader = DataLoader(dataset, batch_size=128)"
   ]
  },
  {
   "cell_type": "code",
   "execution_count": 0,
   "metadata": {
    "application/vnd.databricks.v1+cell": {
     "cellMetadata": {
      "byteLimit": 2048000,
      "rowLimit": 10000
     },
     "inputWidgets": {},
     "nuid": "4d5db960-6ab6-4742-8b73-042be471013a",
     "showTitle": false,
     "tableResultSettingsMap": {},
     "title": ""
    }
   },
   "outputs": [],
   "source": [
    "\n",
    "from composer import Trainer\n",
    "from composer.algorithms import LabelSmoothing, CutMix, ChannelsLast\n",
    "import torch.optim as optim\n",
    "\n",
    "model = ResNet18()\n",
    "optimizer = optim.Adam(model.parameters(), lr=0.0001)\n",
    "\n",
    "trainer = Trainer(\n",
    "    model=model,\n",
    "    optimizers=optimizer,\n",
    "    train_dataloader=train_dataloader,\n",
    "    # train_dataloader=train_dataloader,\n",
    "    # eval_dataloader=test_dataloader,\n",
    "    max_duration=num_epochs,\n",
    "    algorithms=[\n",
    "        LabelSmoothing(smoothing=0.1),\n",
    "        CutMix(alpha=1.0),\n",
    "        ChannelsLast(),\n",
    "        ]\n",
    ")\n",
    "trainer.fit()"
   ]
  },
  {
   "cell_type": "code",
   "execution_count": 0,
   "metadata": {
    "application/vnd.databricks.v1+cell": {
     "cellMetadata": {},
     "inputWidgets": {},
     "nuid": "c9bb8a76-7aca-472d-bd6b-1fac3c901e92",
     "showTitle": false,
     "tableResultSettingsMap": {},
     "title": ""
    }
   },
   "outputs": [],
   "source": []
  }
 ],
 "metadata": {
  "application/vnd.databricks.v1+notebook": {
   "computePreferences": null,
   "dashboards": [],
   "environmentMetadata": {
    "base_environment": "",
    "environment_version": "2"
   },
   "inputWidgetPreferences": null,
   "language": "python",
   "notebookMetadata": {
    "pythonIndentUnit": 2
   },
   "notebookName": "resnet50_imagenet",
   "widgets": {}
  },
  "language_info": {
   "name": "python"
  }
 },
 "nbformat": 4,
 "nbformat_minor": 0
}
